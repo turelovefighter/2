{
  "cells": [
    {
      "cell_type": "markdown",
      "metadata": {
        "id": "view-in-github",
        "colab_type": "text"
      },
      "source": [
        "<a href=\"https://colab.research.google.com/github/turelovefighter/2/blob/main/DeFooocus_colab.ipynb\" target=\"_parent\"><img src=\"https://colab.research.google.com/assets/colab-badge.svg\" alt=\"Open In Colab\"/></a>"
      ]
    },
    {
      "cell_type": "code",
      "execution_count": null,
      "metadata": {
        "id": "VjYy0F2gZIPR"
      },
      "outputs": [],
      "source": [
        "#@title DeFooocus\n",
        "#@markdown **Launch the interface DeFocus (Fooocus fork)** | You need to connect with T4/A100/V100\n",
        "#@markdown ****\n",
        "#@markdown *Attention!* When working in the interface with the FaceSwap and CPDS controlnet, crashes are possible; it is also recommended to work in *Extreme speed* mode for additional stability. When working with the ImagePrompt and PyraCanny controls, 85% of the work will be stable.\n",
        "#@markdown ****\n",
        "\n",
        "print(\"[DeFooocus] Preparing ...\")\n",
        "\n",
        "theme = \"dark\" #@param [\"dark\", \"light\"]\n",
        "preset = \"deafult\" #@param [\"deafult\", \"realistic\", \"anime\", \"lcm\", \"sai\", \"turbo\", \"lighting\", \"hypersd\", \"playground_v2.5\", \"dpo\", \"spo\", \"sd1.5\"]\n",
        "advenced_args = \"--share --attention-split --always-high-vram --disable-offload-from-vram --all-in-fp16\" #@param {type: \"string\"}\n",
        "\n",
        "if preset != \"deafult\":\n",
        "  args = f\"{advenced_args} --theme {theme} --preset {preset}\"\n",
        "else:\n",
        "  args = f\"{advenced_args} --theme {theme}\"\n",
        "\n",
        "!pip install -q pygit2==1.12.2\n",
        "%cd /content\n",
        "!git clone https://github.com/ehristoforu/DeFooocus.git\n",
        "%cd /content/DeFooocus\n",
        "!pip install -q -r requirements_versions.txt\n",
        "\n",
        "print(\"[DeFooocus] Starting ...\")\n",
        "!python entry_with_update.py $args"
      ]
    },
    {
      "cell_type": "code",
      "source": [],
      "metadata": {
        "id": "BXFeLjdBXHwx"
      },
      "execution_count": null,
      "outputs": []
    },
    {
      "cell_type": "markdown",
      "source": [
        "https://www.cloudbooklet.com/developer/how-to-run-stable-diffusion-on-google-cloud"
      ],
      "metadata": {
        "id": "DA_r0qqqXHH0"
      }
    },
    {
      "cell_type": "code",
      "source": [],
      "metadata": {
        "id": "g4shzvjJXKT3"
      },
      "execution_count": null,
      "outputs": []
    },
    {
      "cell_type": "code",
      "source": [
        "!sudo apt update\n",
        "!sudo apt upgrade -y"
      ],
      "metadata": {
        "id": "tyfeN6xVRS_f"
      },
      "execution_count": null,
      "outputs": []
    },
    {
      "cell_type": "code",
      "source": [
        "!sudo apt install curl wget git python3 -y"
      ],
      "metadata": {
        "id": "RbOqU97TT6F3"
      },
      "execution_count": null,
      "outputs": []
    },
    {
      "cell_type": "code",
      "source": [
        "!curl -L https://github.com/GoogleCloudPlatform/compute-gpu-installation/releases/download/cuda-installer-v1.1.0/cuda_installer.pyz --output cuda_installer.pyz"
      ],
      "metadata": {
        "id": "6u-R-xlhUCen"
      },
      "execution_count": null,
      "outputs": []
    },
    {
      "cell_type": "code",
      "source": [
        "!sudo python3 cuda_installer.pyz install_driver"
      ],
      "metadata": {
        "id": "HIZZmW5PUCRo"
      },
      "execution_count": null,
      "outputs": []
    },
    {
      "cell_type": "code",
      "source": [
        "!sudo python3 cuda_installer.pyz install_cuda"
      ],
      "metadata": {
        "id": "mXcSr7NZUFRv"
      },
      "execution_count": null,
      "outputs": []
    },
    {
      "cell_type": "code",
      "source": [
        "!sudo nvidia-smi"
      ],
      "metadata": {
        "id": "kyQRA5vhUHRq"
      },
      "execution_count": null,
      "outputs": []
    },
    {
      "cell_type": "code",
      "source": [
        "!sudo apt install python3-venv python3-pip -y\n",
        "!sudo apt install -y python3-opencv\n",
        "!sudo apt install --no-install-recommends google-perftools"
      ],
      "metadata": {
        "id": "bzC5mfv2UJSJ"
      },
      "execution_count": null,
      "outputs": []
    },
    {
      "cell_type": "code",
      "source": [
        "!pip install --upgrade pip\n",
        "!pip install --upgrade diffusers transformers accelerate peft"
      ],
      "metadata": {
        "id": "I18xd_INULLu"
      },
      "execution_count": null,
      "outputs": []
    },
    {
      "cell_type": "code",
      "source": [
        "!mkdir ~/sd/automatic1111\n",
        "!cd ~/sd/automatic1111\n",
        "!git clone  https://github.com/AUTOMATIC1111/stable-diffusion-webui.git"
      ],
      "metadata": {
        "id": "azWnqU8_ULvh"
      },
      "execution_count": null,
      "outputs": []
    },
    {
      "cell_type": "code",
      "source": [
        "!stable-diffusion-webui/webui.sh --listen --xformers --api --api-auth api_username:api_password --gradio-auth ui_username:ui_password"
      ],
      "metadata": {
        "id": "AnFY8QKSUM_t"
      },
      "execution_count": null,
      "outputs": []
    },
    {
      "cell_type": "code",
      "source": [
        "!sudo apt install nginx"
      ],
      "metadata": {
        "id": "ON0hobSAUN64"
      },
      "execution_count": null,
      "outputs": []
    },
    {
      "cell_type": "code",
      "source": [
        "!sudo rm -rf /etc/nginx/sites-enabled/default\n",
        "!sudo rm -rf /etc/nginx/sites-available/default"
      ],
      "metadata": {
        "id": "kGp-iTE4UO5l"
      },
      "execution_count": null,
      "outputs": []
    },
    {
      "cell_type": "code",
      "source": [
        "!sudo nano /etc/nginx/sites-available/sdwebui.conf"
      ],
      "metadata": {
        "id": "mwqdkhqUUP14"
      },
      "execution_count": null,
      "outputs": []
    },
    {
      "cell_type": "code",
      "source": [
        "import subprocess\n",
        "\n",
        "# 定义 Nginx 配置内容\n",
        "nginx_config = \"\"\"\n",
        "server {\n",
        "    # 监听 IPv6 和 IPv4 的 80 端口\n",
        "    listen [::]:80;\n",
        "    listen 80;\n",
        "    # 设置服务器域名，这里需要替换为你实际的域名\n",
        "    server_name domainname.com;\n",
        "\n",
        "    location / {\n",
        "        proxy_pass http://localhost:7860;\n",
        "        proxy_http_version 1.1;\n",
        "        proxy_set_header Upgrade $http_upgrade;\n",
        "        proxy_set_header Connection 'upgrade';\n",
        "        proxy_set_header Host $host;\n",
        "        proxy_cache_bypass $http_upgrade;\n",
        "    }\n",
        "\n",
        "    location /outputs/ {\n",
        "        # 这里的 username 需要替换为你实际的用户名\n",
        "        root /home/username/sd/automatic1111/stable-diffusion-webui;\n",
        "        add_header Access-Control-Allow-Origin *;\n",
        "    }\n",
        "}\n",
        "\"\"\"\n",
        "\n",
        "# 定义 Nginx 配置文件路径\n",
        "config_file_path = \"/etc/nginx/sites-available/sdwebui.conf\"\n",
        "\n",
        "# 将配置内容写入 Nginx 配置文件\n",
        "try:\n",
        "    with open(config_file_path, 'w') as file:\n",
        "        file.write(nginx_config)\n",
        "    print(f\"已成功将 Nginx 配置写入 {config_file_path}\")\n",
        "except Exception as e:\n",
        "    print(f\"写入 Nginx 配置文件时出错: {e}\")\n",
        "\n",
        "# 创建符号链接，启用 Nginx 配置\n",
        "try:\n",
        "    subprocess.run([\"sudo\", \"ln\", \"-s\", config_file_path, \"/etc/nginx/sites-enabled/sdwebui.conf\"], check=True)\n",
        "    print(\"已成功启用 Nginx 配置\")\n",
        "except subprocess.CalledProcessError as e:\n",
        "    print(f\"启用 Nginx 配置时出错: {e}\")\n",
        "\n",
        "# 重启 Nginx 服务\n",
        "try:\n",
        "    subprocess.run([\"sudo\", \"service\", \"nginx\", \"restart\"], check=True)\n",
        "    print(\"Nginx 服务已成功重启\")\n",
        "except subprocess.CalledProcessError as e:\n",
        "    print(f\"重启 Nginx 服务时出错: {e}\")"
      ],
      "metadata": {
        "id": "geo3kdrhUQ0p"
      },
      "execution_count": null,
      "outputs": []
    },
    {
      "cell_type": "code",
      "source": [
        "!sudo ln -s /etc/nginx/sites-available/sdwebui.conf /etc/nginx/sites-enabled/sdwebui.conf"
      ],
      "metadata": {
        "id": "ZyAPMQU5UR_1"
      },
      "execution_count": null,
      "outputs": []
    },
    {
      "cell_type": "code",
      "source": [
        "!sudo service nginx restart"
      ],
      "metadata": {
        "id": "WWmA_pa0UTCf"
      },
      "execution_count": null,
      "outputs": []
    }
  ],
  "metadata": {
    "accelerator": "GPU",
    "colab": {
      "gpuType": "T4",
      "provenance": [],
      "include_colab_link": true
    },
    "kernelspec": {
      "display_name": "Python 3",
      "name": "python3"
    },
    "language_info": {
      "name": "python"
    }
  },
  "nbformat": 4,
  "nbformat_minor": 0
}