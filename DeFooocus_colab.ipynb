{
  "cells": [
    {
      "cell_type": "markdown",
      "metadata": {
        "id": "view-in-github",
        "colab_type": "text"
      },
      "source": [
        "<a href=\"https://colab.research.google.com/github/turelovefighter/2/blob/main/DeFooocus_colab.ipynb\" target=\"_parent\"><img src=\"https://colab.research.google.com/assets/colab-badge.svg\" alt=\"Open In Colab\"/></a>"
      ]
    },
    {
      "cell_type": "code",
      "execution_count": 10,
      "metadata": {
        "id": "VjYy0F2gZIPR",
        "colab": {
          "base_uri": "https://localhost:8080/"
        },
        "outputId": "47cf1b59-ca86-4d25-ecde-c16387c0c4d6"
      },
      "outputs": [
        {
          "output_type": "stream",
          "name": "stdout",
          "text": [
            "Keyboard interruption in main thread... closing server.\n",
            "Traceback (most recent call last):\n",
            "  File \"/usr/local/lib/python3.11/dist-packages/gradio/blocks.py\", line 2199, in block_thread\n",
            "    time.sleep(0.1)\n",
            "KeyboardInterrupt\n",
            "\n",
            "During handling of the above exception, another exception occurred:\n",
            "\n",
            "Traceback (most recent call last):\n",
            "  File \"/content/DeFooocus/entry_with_update.py\", line 46, in <module>\n",
            "    from launch import *\n",
            "  File \"/content/DeFooocus/launch.py\", line 128, in <module>\n",
            "    from webui import *\n",
            "  File \"/content/DeFooocus/webui.py\", line 869, in <module>\n",
            "    shared.gradio_root.launch(\n",
            "  File \"/usr/local/lib/python3.11/dist-packages/gradio/blocks.py\", line 2115, in launch\n",
            "    self.block_thread()\n",
            "  File \"/usr/local/lib/python3.11/dist-packages/gradio/blocks.py\", line 2203, in block_thread\n",
            "    self.server.close()\n",
            "  File \"/usr/local/lib/python3.11/dist-packages/gradio/networking.py\", line 49, in close\n",
            "    self.thread.join()\n",
            "  File \"/usr/lib/python3.11/threading.py\", line 1119, in join\n",
            "    self._wait_for_tstate_lock()\n",
            "  File \"/usr/lib/python3.11/threading.py\", line 1139, in _wait_for_tstate_lock\n",
            "    if lock.acquire(block, timeout):\n",
            "       ^^^^^^^^^^^^^^^^^^^^^^^^^^^^\n",
            "KeyboardInterrupt\n",
            "Killing tunnel 127.0.0.1:7865 <> https://48040ecdc28f93f7cd.gradio.live\n"
          ]
        }
      ],
      "source": [
        "#@title DeFooocus\n",
        "#@markdown **Launch the interface DeFocus (Fooocus fork)** | You need to connect with T4/A100/V100\n",
        "#@markdown ****\n",
        "#@markdown *Attention!* When working in the interface with the FaceSwap and CPDS controlnet, crashes are possible; it is also recommended to work in *Extreme speed* mode for additional stability. When working with the ImagePrompt and PyraCanny controls, 85% of the work will be stable.\n",
        "#@markdown ****\n",
        "\n",
        "print(\"[DeFooocus] Preparing ...\")\n",
        "\n",
        "theme = \"dark\" #@param [\"dark\", \"light\"]\n",
        "preset = \"deafult\" #@param [\"deafult\", \"realistic\", \"anime\", \"lcm\", \"sai\", \"turbo\", \"lighting\", \"hypersd\", \"playground_v2.5\", \"dpo\", \"spo\", \"sd1.5\"]\n",
        "advenced_args = \"--share --attention-split --always-high-vram --disable-offload-from-vram --all-in-fp16\" #@param {type: \"string\"}\n",
        "\n",
        "if preset != \"deafult\":\n",
        "  args = f\"{advenced_args} --theme {theme} --preset {preset}\"\n",
        "else:\n",
        "  args = f\"{advenced_args} --theme {theme}\"\n",
        "\n",
        "!pip install -q pygit2==1.12.2\n",
        "%cd /content\n",
        "!git clone https://github.com/ehristoforu/DeFooocus.git\n",
        "%cd /content/DeFooocus\n",
        "!pip install -q -r requirements_versions.txt\n",
        "\n",
        "print(\"[DeFooocus] Starting ...\")\n",
        "!python entry_with_update.py $args"
      ]
    },
    {
      "cell_type": "code",
      "source": [
        "!sudo apt update\n",
        "!sudo apt upgrade -y"
      ],
      "metadata": {
        "id": "tyfeN6xVRS_f",
        "colab": {
          "base_uri": "https://localhost:8080/"
        },
        "outputId": "9d93d1a5-a0d8-40c4-beaf-5dcf27e6608a"
      },
      "execution_count": 13,
      "outputs": [
        {
          "output_type": "stream",
          "name": "stdout",
          "text": [
            "\u001b[33m\r0% [Working]\u001b[0m\r            \rHit:1 https://developer.download.nvidia.com/compute/cuda/repos/ubuntu2204/x86_64  InRelease\n",
            "\u001b[33m\r0% [Connected to archive.ubuntu.com (91.189.91.82)] [Waiting for headers] [Wait\u001b[0m\r                                                                               \rHit:2 https://cloud.r-project.org/bin/linux/ubuntu jammy-cran40/ InRelease\n",
            "\u001b[33m\r0% [Waiting for headers] [Waiting for headers] [Connected to r2u.stat.illinois.\u001b[0m\r                                                                               \rHit:3 http://archive.ubuntu.com/ubuntu jammy InRelease\n",
            "Get:4 http://security.ubuntu.com/ubuntu jammy-security InRelease [129 kB]\n",
            "Get:5 http://archive.ubuntu.com/ubuntu jammy-updates InRelease [128 kB]\n",
            "Hit:6 https://r2u.stat.illinois.edu/ubuntu jammy InRelease\n",
            "Hit:7 http://archive.ubuntu.com/ubuntu jammy-backports InRelease\n",
            "Hit:8 https://ppa.launchpadcontent.net/deadsnakes/ppa/ubuntu jammy InRelease\n",
            "Get:9 http://archive.ubuntu.com/ubuntu jammy-updates/universe amd64 Packages [1,542 kB]\n",
            "Hit:10 https://ppa.launchpadcontent.net/graphics-drivers/ppa/ubuntu jammy InRelease\n",
            "Hit:11 https://ppa.launchpadcontent.net/ubuntugis/ppa/ubuntu jammy InRelease\n",
            "Get:12 http://archive.ubuntu.com/ubuntu jammy-updates/main amd64 Packages [3,099 kB]\n",
            "Fetched 4,898 kB in 1s (3,632 kB/s)\n",
            "Reading package lists... Done\n",
            "Building dependency tree... Done\n",
            "Reading state information... Done\n",
            "47 packages can be upgraded. Run 'apt list --upgradable' to see them.\n",
            "\u001b[1;33mW: \u001b[0mSkipping acquire of configured file 'main/source/Sources' as repository 'https://r2u.stat.illinois.edu/ubuntu jammy InRelease' does not seem to provide it (sources.list entry misspelt?)\u001b[0m\n",
            "Reading package lists... Done\n",
            "Building dependency tree... Done\n",
            "Reading state information... Done\n",
            "Calculating upgrade... Done\n",
            "The following packages have been kept back:\n",
            "  libcudnn9-cuda-12 libcudnn9-dev-cuda-12 libnccl-dev libnccl2\n",
            "The following packages will be upgraded:\n",
            "  base-files binutils binutils-common binutils-x86-64-linux-gnu\n",
            "  cuda-toolkit-12-config-common cuda-toolkit-config-common e2fsprogs\n",
            "  libbinutils libc-bin libcap2 libctf-nobfd0 libctf0 libexpat1 libexpat1-dev\n",
            "  libext2fs2 libgnutls30 libldap-2.5-0 libpam-modules libpam-modules-bin\n",
            "  libpam-runtime libpam0g libpoppler-dev libpoppler-private-dev libpoppler118\n",
            "  libpython3.11 libpython3.11-dev libpython3.11-minimal libpython3.11-stdlib\n",
            "  libseccomp2 libss2 libtasn1-6 libudev1 linux-libc-dev logsave openssl\n",
            "  python3.11 python3.11-dev python3.11-minimal r-cran-later vim vim-common\n",
            "  vim-runtime xxd\n",
            "43 upgraded, 0 newly installed, 0 to remove and 4 not upgraded.\n",
            "Need to get 33.0 MB of archives.\n",
            "After this operation, 138 kB of additional disk space will be used.\n",
            "Get:1 https://developer.download.nvidia.com/compute/cuda/repos/ubuntu2204/x86_64  cuda-toolkit-12-config-common 12.8.90-1 [16.5 kB]\n",
            "Get:2 http://archive.ubuntu.com/ubuntu jammy-updates/main amd64 base-files amd64 12ubuntu4.7 [61.9 kB]\n",
            "Get:3 https://developer.download.nvidia.com/compute/cuda/repos/ubuntu2204/x86_64  cuda-toolkit-config-common 12.8.90-1 [16.5 kB]\n",
            "Get:4 https://r2u.stat.illinois.edu/ubuntu jammy/main amd64 r-cran-later amd64 1.4.2-1.ca2204.1 [141 kB]\n",
            "Get:5 http://archive.ubuntu.com/ubuntu jammy-updates/main amd64 libc-bin amd64 2.35-0ubuntu3.9 [706 kB]\n",
            "Get:6 https://ppa.launchpadcontent.net/deadsnakes/ppa/ubuntu jammy/main amd64 python3.11-dev amd64 3.11.12-1+jammy1 [500 kB]\n",
            "Get:7 http://archive.ubuntu.com/ubuntu jammy-updates/main amd64 libpam0g amd64 1.4.0-11ubuntu2.5 [59.8 kB]\n",
            "Get:8 http://archive.ubuntu.com/ubuntu jammy-updates/main amd64 libpam-modules-bin amd64 1.4.0-11ubuntu2.5 [37.4 kB]\n",
            "Get:9 http://archive.ubuntu.com/ubuntu jammy-updates/main amd64 libpam-modules amd64 1.4.0-11ubuntu2.5 [280 kB]\n",
            "Get:10 http://archive.ubuntu.com/ubuntu jammy-updates/main amd64 logsave amd64 1.46.5-2ubuntu1.2 [10.1 kB]\n",
            "Get:11 http://archive.ubuntu.com/ubuntu jammy-updates/main amd64 libext2fs2 amd64 1.46.5-2ubuntu1.2 [208 kB]\n",
            "Get:12 http://archive.ubuntu.com/ubuntu jammy-updates/main amd64 e2fsprogs amd64 1.46.5-2ubuntu1.2 [590 kB]\n",
            "Get:13 http://archive.ubuntu.com/ubuntu jammy-updates/main amd64 libexpat1-dev amd64 2.4.7-1ubuntu0.6 [148 kB]\n",
            "Get:14 http://archive.ubuntu.com/ubuntu jammy-updates/main amd64 libexpat1 amd64 2.4.7-1ubuntu0.6 [92.1 kB]\n",
            "Get:15 http://archive.ubuntu.com/ubuntu jammy-updates/main amd64 libcap2 amd64 1:2.44-1ubuntu0.22.04.2 [18.3 kB]\n",
            "Get:16 http://archive.ubuntu.com/ubuntu jammy-updates/main amd64 libpam-runtime all 1.4.0-11ubuntu2.5 [40.2 kB]\n",
            "Get:17 http://archive.ubuntu.com/ubuntu jammy-updates/main amd64 libudev1 amd64 249.11-0ubuntu3.15 [76.6 kB]\n",
            "Get:18 http://archive.ubuntu.com/ubuntu jammy-updates/main amd64 libtasn1-6 amd64 4.18.0-4ubuntu0.1 [43.5 kB]\n",
            "Get:19 http://archive.ubuntu.com/ubuntu jammy-updates/main amd64 libgnutls30 amd64 3.7.3-4ubuntu1.6 [969 kB]\n",
            "Get:20 http://archive.ubuntu.com/ubuntu jammy-updates/main amd64 libseccomp2 amd64 2.5.3-2ubuntu3~22.04.1 [47.4 kB]\n",
            "Get:21 http://archive.ubuntu.com/ubuntu jammy-updates/main amd64 libss2 amd64 1.46.5-2ubuntu1.2 [12.3 kB]\n",
            "Get:22 http://archive.ubuntu.com/ubuntu jammy-updates/main amd64 openssl amd64 3.0.2-0ubuntu1.19 [1,186 kB]\n",
            "Get:23 http://archive.ubuntu.com/ubuntu jammy-updates/main amd64 vim amd64 2:8.2.3995-1ubuntu2.24 [1,728 kB]\n",
            "Get:24 http://archive.ubuntu.com/ubuntu jammy-updates/main amd64 vim-runtime all 2:8.2.3995-1ubuntu2.24 [6,833 kB]\n",
            "Get:25 http://archive.ubuntu.com/ubuntu jammy-updates/main amd64 xxd amd64 2:8.2.3995-1ubuntu2.24 [51.4 kB]\n",
            "Get:26 http://archive.ubuntu.com/ubuntu jammy-updates/main amd64 vim-common all 2:8.2.3995-1ubuntu2.24 [81.5 kB]\n",
            "Get:27 http://archive.ubuntu.com/ubuntu jammy-updates/main amd64 libctf0 amd64 2.38-4ubuntu2.8 [103 kB]\n",
            "Get:28 http://archive.ubuntu.com/ubuntu jammy-updates/main amd64 libctf-nobfd0 amd64 2.38-4ubuntu2.8 [108 kB]\n",
            "Get:29 http://archive.ubuntu.com/ubuntu jammy-updates/main amd64 binutils-x86-64-linux-gnu amd64 2.38-4ubuntu2.8 [2,324 kB]\n",
            "Get:30 http://archive.ubuntu.com/ubuntu jammy-updates/main amd64 libbinutils amd64 2.38-4ubuntu2.8 [661 kB]\n",
            "Get:31 http://archive.ubuntu.com/ubuntu jammy-updates/main amd64 binutils amd64 2.38-4ubuntu2.8 [3,196 B]\n",
            "Get:32 http://archive.ubuntu.com/ubuntu jammy-updates/main amd64 binutils-common amd64 2.38-4ubuntu2.8 [223 kB]\n",
            "Get:33 http://archive.ubuntu.com/ubuntu jammy-updates/main amd64 libldap-2.5-0 amd64 2.5.18+dfsg-0ubuntu0.22.04.3 [183 kB]\n",
            "Get:34 http://archive.ubuntu.com/ubuntu jammy-updates/main amd64 libpoppler-private-dev amd64 22.02.0-2ubuntu0.7 [199 kB]\n",
            "Get:35 https://ppa.launchpadcontent.net/deadsnakes/ppa/ubuntu jammy/main amd64 libpython3.11-dev amd64 3.11.12-1+jammy1 [5,314 kB]\n",
            "Get:36 http://archive.ubuntu.com/ubuntu jammy-updates/main amd64 libpoppler-dev amd64 22.02.0-2ubuntu0.7 [5,180 B]\n",
            "Get:37 http://archive.ubuntu.com/ubuntu jammy-updates/main amd64 libpoppler118 amd64 22.02.0-2ubuntu0.7 [1,079 kB]\n",
            "Get:38 http://archive.ubuntu.com/ubuntu jammy-updates/main amd64 linux-libc-dev amd64 5.15.0-136.147 [1,320 kB]\n",
            "Get:39 https://ppa.launchpadcontent.net/deadsnakes/ppa/ubuntu jammy/main amd64 libpython3.11 amd64 3.11.12-1+jammy1 [2,218 kB]\n",
            "Get:40 https://ppa.launchpadcontent.net/deadsnakes/ppa/ubuntu jammy/main amd64 python3.11 amd64 3.11.12-1+jammy1 [94.3 kB]\n",
            "Get:41 https://ppa.launchpadcontent.net/deadsnakes/ppa/ubuntu jammy/main amd64 libpython3.11-stdlib amd64 3.11.12-1+jammy1 [1,924 kB]\n",
            "Get:42 https://ppa.launchpadcontent.net/deadsnakes/ppa/ubuntu jammy/main amd64 python3.11-minimal amd64 3.11.12-1+jammy1 [2,352 kB]\n",
            "Get:43 https://ppa.launchpadcontent.net/deadsnakes/ppa/ubuntu jammy/main amd64 libpython3.11-minimal amd64 3.11.12-1+jammy1 [886 kB]\n",
            "Fetched 33.0 MB in 26s (1,287 kB/s)\n",
            "debconf: unable to initialize frontend: Dialog\n",
            "debconf: (No usable dialog-like program is installed, so the dialog based frontend cannot be used. at /usr/share/perl5/Debconf/FrontEnd/Dialog.pm line 78, <> line 43.)\n",
            "debconf: falling back to frontend: Readline\n",
            "debconf: unable to initialize frontend: Readline\n",
            "debconf: (This frontend requires a controlling tty.)\n",
            "debconf: falling back to frontend: Teletype\n",
            "dpkg-preconfigure: unable to re-open stdin: \n",
            "(Reading database ... 126213 files and directories currently installed.)\n",
            "Preparing to unpack .../base-files_12ubuntu4.7_amd64.deb ...\n",
            "Unpacking base-files (12ubuntu4.7) over (12ubuntu4.6) ...\n",
            "Setting up base-files (12ubuntu4.7) ...\n",
            "Installing new version of config file /etc/issue ...\n",
            "Installing new version of config file /etc/issue.net ...\n",
            "Installing new version of config file /etc/lsb-release ...\n",
            "(Reading database ... 126213 files and directories currently installed.)\n",
            "Preparing to unpack .../libc-bin_2.35-0ubuntu3.9_amd64.deb ...\n",
            "Unpacking libc-bin (2.35-0ubuntu3.9) over (2.35-0ubuntu3.8) ...\n",
            "Setting up libc-bin (2.35-0ubuntu3.9) ...\n",
            "/sbin/ldconfig.real: /usr/local/lib/libtbbbind_2_0.so.3 is not a symbolic link\n",
            "\n",
            "/sbin/ldconfig.real: /usr/local/lib/libtbbbind.so.3 is not a symbolic link\n",
            "\n",
            "/sbin/ldconfig.real: /usr/local/lib/libhwloc.so.15 is not a symbolic link\n",
            "\n",
            "/sbin/ldconfig.real: /usr/local/lib/libtbb.so.12 is not a symbolic link\n",
            "\n",
            "/sbin/ldconfig.real: /usr/local/lib/libtbbmalloc.so.2 is not a symbolic link\n",
            "\n",
            "/sbin/ldconfig.real: /usr/local/lib/libur_adapter_opencl.so.0 is not a symbolic link\n",
            "\n",
            "/sbin/ldconfig.real: /usr/local/lib/libtcm_debug.so.1 is not a symbolic link\n",
            "\n",
            "/sbin/ldconfig.real: /usr/local/lib/libtcm.so.1 is not a symbolic link\n",
            "\n",
            "/sbin/ldconfig.real: /usr/local/lib/libtbbbind_2_5.so.3 is not a symbolic link\n",
            "\n",
            "/sbin/ldconfig.real: /usr/local/lib/libtbbmalloc_proxy.so.2 is not a symbolic link\n",
            "\n",
            "/sbin/ldconfig.real: /usr/local/lib/libumf.so.0 is not a symbolic link\n",
            "\n",
            "/sbin/ldconfig.real: /usr/local/lib/libur_loader.so.0 is not a symbolic link\n",
            "\n",
            "/sbin/ldconfig.real: /usr/local/lib/libur_adapter_level_zero.so.0 is not a symbolic link\n",
            "\n",
            "(Reading database ... 126213 files and directories currently installed.)\n",
            "Preparing to unpack .../libpam0g_1.4.0-11ubuntu2.5_amd64.deb ...\n",
            "Unpacking libpam0g:amd64 (1.4.0-11ubuntu2.5) over (1.4.0-11ubuntu2.4) ...\n",
            "Setting up libpam0g:amd64 (1.4.0-11ubuntu2.5) ...\n",
            "debconf: unable to initialize frontend: Dialog\n",
            "debconf: (No usable dialog-like program is installed, so the dialog based frontend cannot be used. at /usr/share/perl5/Debconf/FrontEnd/Dialog.pm line 78.)\n",
            "debconf: falling back to frontend: Readline\n",
            "(Reading database ... 126213 files and directories currently installed.)\n",
            "Preparing to unpack .../libpam-modules-bin_1.4.0-11ubuntu2.5_amd64.deb ...\n",
            "Unpacking libpam-modules-bin (1.4.0-11ubuntu2.5) over (1.4.0-11ubuntu2.4) ...\n",
            "Setting up libpam-modules-bin (1.4.0-11ubuntu2.5) ...\n",
            "(Reading database ... 126213 files and directories currently installed.)\n",
            "Preparing to unpack .../libpam-modules_1.4.0-11ubuntu2.5_amd64.deb ...\n",
            "debconf: unable to initialize frontend: Dialog\n",
            "debconf: (No usable dialog-like program is installed, so the dialog based frontend cannot be used. at /usr/share/perl5/Debconf/FrontEnd/Dialog.pm line 78.)\n",
            "debconf: falling back to frontend: Readline\n",
            "Unpacking libpam-modules:amd64 (1.4.0-11ubuntu2.5) over (1.4.0-11ubuntu2.4) ...\n",
            "Setting up libpam-modules:amd64 (1.4.0-11ubuntu2.5) ...\n",
            "(Reading database ... 126213 files and directories currently installed.)\n",
            "Preparing to unpack .../logsave_1.46.5-2ubuntu1.2_amd64.deb ...\n",
            "Unpacking logsave (1.46.5-2ubuntu1.2) over (1.46.5-2ubuntu1.1) ...\n",
            "Preparing to unpack .../libext2fs2_1.46.5-2ubuntu1.2_amd64.deb ...\n",
            "Unpacking libext2fs2:amd64 (1.46.5-2ubuntu1.2) over (1.46.5-2ubuntu1.1) ...\n",
            "Setting up libext2fs2:amd64 (1.46.5-2ubuntu1.2) ...\n",
            "(Reading database ... 126213 files and directories currently installed.)\n",
            "Preparing to unpack .../00-e2fsprogs_1.46.5-2ubuntu1.2_amd64.deb ...\n",
            "Unpacking e2fsprogs (1.46.5-2ubuntu1.2) over (1.46.5-2ubuntu1.1) ...\n",
            "Preparing to unpack .../01-libexpat1-dev_2.4.7-1ubuntu0.6_amd64.deb ...\n",
            "Unpacking libexpat1-dev:amd64 (2.4.7-1ubuntu0.6) over (2.4.7-1ubuntu0.5) ...\n",
            "Preparing to unpack .../02-libexpat1_2.4.7-1ubuntu0.6_amd64.deb ...\n",
            "Unpacking libexpat1:amd64 (2.4.7-1ubuntu0.6) over (2.4.7-1ubuntu0.5) ...\n",
            "Preparing to unpack .../03-python3.11-dev_3.11.12-1+jammy1_amd64.deb ...\n",
            "Unpacking python3.11-dev (3.11.12-1+jammy1) over (3.11.11-1+jammy1) ...\n",
            "Preparing to unpack .../04-libpython3.11-dev_3.11.12-1+jammy1_amd64.deb ...\n",
            "Unpacking libpython3.11-dev:amd64 (3.11.12-1+jammy1) over (3.11.11-1+jammy1) ...\n",
            "Preparing to unpack .../05-libpython3.11_3.11.12-1+jammy1_amd64.deb ...\n",
            "Unpacking libpython3.11:amd64 (3.11.12-1+jammy1) over (3.11.11-1+jammy1) ...\n",
            "Preparing to unpack .../06-python3.11_3.11.12-1+jammy1_amd64.deb ...\n",
            "Unpacking python3.11 (3.11.12-1+jammy1) over (3.11.11-1+jammy1) ...\n",
            "Preparing to unpack .../07-libpython3.11-stdlib_3.11.12-1+jammy1_amd64.deb ...\n",
            "Unpacking libpython3.11-stdlib:amd64 (3.11.12-1+jammy1) over (3.11.11-1+jammy1) ...\n",
            "Preparing to unpack .../08-python3.11-minimal_3.11.12-1+jammy1_amd64.deb ...\n",
            "Unpacking python3.11-minimal (3.11.12-1+jammy1) over (3.11.11-1+jammy1) ...\n",
            "Preparing to unpack .../09-libpython3.11-minimal_3.11.12-1+jammy1_amd64.deb ...\n",
            "Unpacking libpython3.11-minimal:amd64 (3.11.12-1+jammy1) over (3.11.11-1+jammy1) ...\n",
            "Preparing to unpack .../10-libcap2_1%3a2.44-1ubuntu0.22.04.2_amd64.deb ...\n",
            "Unpacking libcap2:amd64 (1:2.44-1ubuntu0.22.04.2) over (1:2.44-1ubuntu0.22.04.1) ...\n",
            "Setting up libcap2:amd64 (1:2.44-1ubuntu0.22.04.2) ...\n",
            "(Reading database ... 126213 files and directories currently installed.)\n",
            "Preparing to unpack .../libpam-runtime_1.4.0-11ubuntu2.5_all.deb ...\n",
            "Unpacking libpam-runtime (1.4.0-11ubuntu2.5) over (1.4.0-11ubuntu2.4) ...\n",
            "Setting up libpam-runtime (1.4.0-11ubuntu2.5) ...\n",
            "debconf: unable to initialize frontend: Dialog\n",
            "debconf: (No usable dialog-like program is installed, so the dialog based frontend cannot be used. at /usr/share/perl5/Debconf/FrontEnd/Dialog.pm line 78.)\n",
            "debconf: falling back to frontend: Readline\n",
            "(Reading database ... 126213 files and directories currently installed.)\n",
            "Preparing to unpack .../libudev1_249.11-0ubuntu3.15_amd64.deb ...\n",
            "Unpacking libudev1:amd64 (249.11-0ubuntu3.15) over (249.11-0ubuntu3.12) ...\n",
            "Setting up libudev1:amd64 (249.11-0ubuntu3.15) ...\n",
            "(Reading database ... 126213 files and directories currently installed.)\n",
            "Preparing to unpack .../libtasn1-6_4.18.0-4ubuntu0.1_amd64.deb ...\n",
            "Unpacking libtasn1-6:amd64 (4.18.0-4ubuntu0.1) over (4.18.0-4build1) ...\n",
            "Setting up libtasn1-6:amd64 (4.18.0-4ubuntu0.1) ...\n",
            "(Reading database ... 126213 files and directories currently installed.)\n",
            "Preparing to unpack .../libgnutls30_3.7.3-4ubuntu1.6_amd64.deb ...\n",
            "Unpacking libgnutls30:amd64 (3.7.3-4ubuntu1.6) over (3.7.3-4ubuntu1.5) ...\n",
            "Setting up libgnutls30:amd64 (3.7.3-4ubuntu1.6) ...\n",
            "(Reading database ... 126213 files and directories currently installed.)\n",
            "Preparing to unpack .../libseccomp2_2.5.3-2ubuntu3~22.04.1_amd64.deb ...\n",
            "Unpacking libseccomp2:amd64 (2.5.3-2ubuntu3~22.04.1) over (2.5.3-2ubuntu2) ...\n",
            "Setting up libseccomp2:amd64 (2.5.3-2ubuntu3~22.04.1) ...\n",
            "(Reading database ... 126213 files and directories currently installed.)\n",
            "Preparing to unpack .../00-libss2_1.46.5-2ubuntu1.2_amd64.deb ...\n",
            "Unpacking libss2:amd64 (1.46.5-2ubuntu1.2) over (1.46.5-2ubuntu1.1) ...\n",
            "Preparing to unpack .../01-openssl_3.0.2-0ubuntu1.19_amd64.deb ...\n",
            "Unpacking openssl (3.0.2-0ubuntu1.19) over (3.0.2-0ubuntu1.16) ...\n",
            "Preparing to unpack .../02-vim_2%3a8.2.3995-1ubuntu2.24_amd64.deb ...\n",
            "Unpacking vim (2:8.2.3995-1ubuntu2.24) over (2:8.2.3995-1ubuntu2.23) ...\n",
            "Preparing to unpack .../03-vim-runtime_2%3a8.2.3995-1ubuntu2.24_all.deb ...\n",
            "Unpacking vim-runtime (2:8.2.3995-1ubuntu2.24) over (2:8.2.3995-1ubuntu2.23) ...\n",
            "Preparing to unpack .../04-xxd_2%3a8.2.3995-1ubuntu2.24_amd64.deb ...\n",
            "Unpacking xxd (2:8.2.3995-1ubuntu2.24) over (2:8.2.3995-1ubuntu2.23) ...\n",
            "Preparing to unpack .../05-vim-common_2%3a8.2.3995-1ubuntu2.24_all.deb ...\n",
            "Unpacking vim-common (2:8.2.3995-1ubuntu2.24) over (2:8.2.3995-1ubuntu2.23) ...\n",
            "Preparing to unpack .../06-libctf0_2.38-4ubuntu2.8_amd64.deb ...\n",
            "Unpacking libctf0:amd64 (2.38-4ubuntu2.8) over (2.38-4ubuntu2.6) ...\n",
            "Preparing to unpack .../07-libctf-nobfd0_2.38-4ubuntu2.8_amd64.deb ...\n",
            "Unpacking libctf-nobfd0:amd64 (2.38-4ubuntu2.8) over (2.38-4ubuntu2.6) ...\n",
            "Preparing to unpack .../08-binutils-x86-64-linux-gnu_2.38-4ubuntu2.8_amd64.deb ...\n",
            "Unpacking binutils-x86-64-linux-gnu (2.38-4ubuntu2.8) over (2.38-4ubuntu2.6) ...\n",
            "Preparing to unpack .../09-libbinutils_2.38-4ubuntu2.8_amd64.deb ...\n",
            "Unpacking libbinutils:amd64 (2.38-4ubuntu2.8) over (2.38-4ubuntu2.6) ...\n",
            "Preparing to unpack .../10-binutils_2.38-4ubuntu2.8_amd64.deb ...\n",
            "Unpacking binutils (2.38-4ubuntu2.8) over (2.38-4ubuntu2.6) ...\n",
            "Preparing to unpack .../11-binutils-common_2.38-4ubuntu2.8_amd64.deb ...\n",
            "Unpacking binutils-common:amd64 (2.38-4ubuntu2.8) over (2.38-4ubuntu2.6) ...\n",
            "Preparing to unpack .../12-cuda-toolkit-12-config-common_12.8.90-1_all.deb ...\n",
            "Unpacking cuda-toolkit-12-config-common (12.8.90-1) over (12.5.82-1) ...\n",
            "Preparing to unpack .../13-cuda-toolkit-config-common_12.8.90-1_all.deb ...\n",
            "Unpacking cuda-toolkit-config-common (12.8.90-1) over (12.5.82-1) ...\n",
            "Preparing to unpack .../14-libldap-2.5-0_2.5.18+dfsg-0ubuntu0.22.04.3_amd64.deb ...\n",
            "Unpacking libldap-2.5-0:amd64 (2.5.18+dfsg-0ubuntu0.22.04.3) over (2.5.17+dfsg-0ubuntu0.22.04.1) ...\n",
            "Preparing to unpack .../15-libpoppler-private-dev_22.02.0-2ubuntu0.7_amd64.deb ...\n",
            "Unpacking libpoppler-private-dev:amd64 (22.02.0-2ubuntu0.7) over (22.02.0-2ubuntu0.6) ...\n",
            "Preparing to unpack .../16-libpoppler-dev_22.02.0-2ubuntu0.7_amd64.deb ...\n",
            "Unpacking libpoppler-dev:amd64 (22.02.0-2ubuntu0.7) over (22.02.0-2ubuntu0.6) ...\n",
            "Preparing to unpack .../17-libpoppler118_22.02.0-2ubuntu0.7_amd64.deb ...\n",
            "Unpacking libpoppler118:amd64 (22.02.0-2ubuntu0.7) over (22.02.0-2ubuntu0.6) ...\n",
            "Preparing to unpack .../18-linux-libc-dev_5.15.0-136.147_amd64.deb ...\n",
            "Unpacking linux-libc-dev:amd64 (5.15.0-136.147) over (5.15.0-113.123) ...\n",
            "Preparing to unpack .../19-r-cran-later_1.4.2-1.ca2204.1_amd64.deb ...\n",
            "Unpacking r-cran-later (1.4.2-1.ca2204.1) over (1.4.1-1.ca2204.1) ...\n",
            "Setting up libexpat1:amd64 (2.4.7-1ubuntu0.6) ...\n",
            "Setting up cuda-toolkit-config-common (12.8.90-1) ...\n",
            "Setting up binutils-common:amd64 (2.38-4ubuntu2.8) ...\n",
            "Setting up linux-libc-dev:amd64 (5.15.0-136.147) ...\n",
            "Setting up libctf-nobfd0:amd64 (2.38-4ubuntu2.8) ...\n",
            "Setting up libldap-2.5-0:amd64 (2.5.18+dfsg-0ubuntu0.22.04.3) ...\n",
            "Setting up xxd (2:8.2.3995-1ubuntu2.24) ...\n",
            "Setting up libpoppler118:amd64 (22.02.0-2ubuntu0.7) ...\n",
            "Setting up vim-common (2:8.2.3995-1ubuntu2.24) ...\n",
            "Setting up libexpat1-dev:amd64 (2.4.7-1ubuntu0.6) ...\n",
            "Setting up libss2:amd64 (1.46.5-2ubuntu1.2) ...\n",
            "Setting up r-cran-later (1.4.2-1.ca2204.1) ...\n",
            "Setting up logsave (1.46.5-2ubuntu1.2) ...\n",
            "Setting up libpython3.11-minimal:amd64 (3.11.12-1+jammy1) ...\n",
            "Setting up libbinutils:amd64 (2.38-4ubuntu2.8) ...\n",
            "Setting up vim-runtime (2:8.2.3995-1ubuntu2.24) ...\n",
            "Setting up openssl (3.0.2-0ubuntu1.19) ...\n",
            "Setting up cuda-toolkit-12-config-common (12.8.90-1) ...\n",
            "Setting up libctf0:amd64 (2.38-4ubuntu2.8) ...\n",
            "Setting up libpoppler-dev:amd64 (22.02.0-2ubuntu0.7) ...\n",
            "Setting up python3.11-minimal (3.11.12-1+jammy1) ...\n",
            "Setting up vim (2:8.2.3995-1ubuntu2.24) ...\n",
            "Setting up libpython3.11-stdlib:amd64 (3.11.12-1+jammy1) ...\n",
            "Setting up libpoppler-private-dev:amd64 (22.02.0-2ubuntu0.7) ...\n",
            "Setting up e2fsprogs (1.46.5-2ubuntu1.2) ...\n",
            "Setting up binutils-x86-64-linux-gnu (2.38-4ubuntu2.8) ...\n",
            "Setting up python3.11 (3.11.12-1+jammy1) ...\n",
            "Setting up libpython3.11:amd64 (3.11.12-1+jammy1) ...\n",
            "Setting up binutils (2.38-4ubuntu2.8) ...\n",
            "Setting up libpython3.11-dev:amd64 (3.11.12-1+jammy1) ...\n",
            "Setting up python3.11-dev (3.11.12-1+jammy1) ...\n",
            "Processing triggers for man-db (2.10.2-1) ...\n",
            "Processing triggers for mailcap (3.70+nmu1ubuntu1) ...\n",
            "Processing triggers for hicolor-icon-theme (0.17-2) ...\n",
            "Processing triggers for libc-bin (2.35-0ubuntu3.9) ...\n",
            "/sbin/ldconfig.real: /usr/local/lib/libtbbbind_2_0.so.3 is not a symbolic link\n",
            "\n",
            "/sbin/ldconfig.real: /usr/local/lib/libtbbbind.so.3 is not a symbolic link\n",
            "\n",
            "/sbin/ldconfig.real: /usr/local/lib/libhwloc.so.15 is not a symbolic link\n",
            "\n",
            "/sbin/ldconfig.real: /usr/local/lib/libtbb.so.12 is not a symbolic link\n",
            "\n",
            "/sbin/ldconfig.real: /usr/local/lib/libtbbmalloc.so.2 is not a symbolic link\n",
            "\n",
            "/sbin/ldconfig.real: /usr/local/lib/libur_adapter_opencl.so.0 is not a symbolic link\n",
            "\n",
            "/sbin/ldconfig.real: /usr/local/lib/libtcm_debug.so.1 is not a symbolic link\n",
            "\n",
            "/sbin/ldconfig.real: /usr/local/lib/libtcm.so.1 is not a symbolic link\n",
            "\n",
            "/sbin/ldconfig.real: /usr/local/lib/libtbbbind_2_5.so.3 is not a symbolic link\n",
            "\n",
            "/sbin/ldconfig.real: /usr/local/lib/libtbbmalloc_proxy.so.2 is not a symbolic link\n",
            "\n",
            "/sbin/ldconfig.real: /usr/local/lib/libumf.so.0 is not a symbolic link\n",
            "\n",
            "/sbin/ldconfig.real: /usr/local/lib/libur_loader.so.0 is not a symbolic link\n",
            "\n",
            "/sbin/ldconfig.real: /usr/local/lib/libur_adapter_level_zero.so.0 is not a symbolic link\n",
            "\n"
          ]
        }
      ]
    },
    {
      "cell_type": "code",
      "source": [
        "!sudo apt install curl wget git python3 -y"
      ],
      "metadata": {
        "colab": {
          "base_uri": "https://localhost:8080/",
          "height": 109
        },
        "id": "RbOqU97TT6F3",
        "outputId": "ad15914a-8700-4ca2-d1f4-38d92042f489"
      },
      "execution_count": 14,
      "outputs": [
        {
          "output_type": "error",
          "ename": "SyntaxError",
          "evalue": "invalid syntax (<ipython-input-14-0bad389ace83>, line 1)",
          "traceback": [
            "\u001b[0;36m  File \u001b[0;32m\"<ipython-input-14-0bad389ace83>\"\u001b[0;36m, line \u001b[0;32m1\u001b[0m\n\u001b[0;31m    sudo apt install curl wget git python3 -y\u001b[0m\n\u001b[0m         ^\u001b[0m\n\u001b[0;31mSyntaxError\u001b[0m\u001b[0;31m:\u001b[0m invalid syntax\n"
          ]
        }
      ]
    },
    {
      "cell_type": "code",
      "source": [
        "curl -L https://github.com/GoogleCloudPlatform/compute-gpu-installation/releases/download/cuda-installer-v1.1.0/cuda_installer.pyz --output cuda_installer.pyz"
      ],
      "metadata": {
        "id": "6u-R-xlhUCen"
      },
      "execution_count": null,
      "outputs": []
    },
    {
      "cell_type": "code",
      "source": [
        "!sudo python3 cuda_installer.pyz install_driver"
      ],
      "metadata": {
        "id": "HIZZmW5PUCRo"
      },
      "execution_count": null,
      "outputs": []
    },
    {
      "cell_type": "code",
      "source": [
        "!sudo python3 cuda_installer.pyz install_cuda"
      ],
      "metadata": {
        "id": "mXcSr7NZUFRv"
      },
      "execution_count": null,
      "outputs": []
    },
    {
      "cell_type": "code",
      "source": [
        "!sudo nvidia-smi"
      ],
      "metadata": {
        "id": "kyQRA5vhUHRq"
      },
      "execution_count": null,
      "outputs": []
    },
    {
      "cell_type": "code",
      "source": [
        "!sudo apt install python3-venv python3-pip -y\n",
        "!sudo apt install -y python3-opencv\n",
        "!sudo apt install --no-install-recommends google-perftools"
      ],
      "metadata": {
        "id": "bzC5mfv2UJSJ"
      },
      "execution_count": null,
      "outputs": []
    },
    {
      "cell_type": "code",
      "source": [
        "!pip install --upgrade pip\n",
        "!pip install --upgrade diffusers transformers accelerate peft"
      ],
      "metadata": {
        "id": "I18xd_INULLu"
      },
      "execution_count": null,
      "outputs": []
    },
    {
      "cell_type": "code",
      "source": [
        "mkdir ~/sd/automatic1111\n",
        "cd ~/sd/automatic1111\n",
        "git clone  https://github.com/AUTOMATIC1111/stable-diffusion-webui.git"
      ],
      "metadata": {
        "id": "azWnqU8_ULvh"
      },
      "execution_count": null,
      "outputs": []
    },
    {
      "cell_type": "code",
      "source": [
        "stable-diffusion-webui/webui.sh --listen --xformers --api --api-auth api_username:api_password --gradio-auth ui_username:ui_password"
      ],
      "metadata": {
        "id": "AnFY8QKSUM_t"
      },
      "execution_count": null,
      "outputs": []
    },
    {
      "cell_type": "code",
      "source": [
        "!sudo apt install nginx"
      ],
      "metadata": {
        "id": "ON0hobSAUN64"
      },
      "execution_count": null,
      "outputs": []
    },
    {
      "cell_type": "code",
      "source": [
        "!sudo rm -rf /etc/nginx/sites-enabled/default\n",
        "!sudo rm -rf /etc/nginx/sites-available/default"
      ],
      "metadata": {
        "id": "kGp-iTE4UO5l"
      },
      "execution_count": null,
      "outputs": []
    },
    {
      "cell_type": "code",
      "source": [
        "!sudo nano /etc/nginx/sites-available/sdwebui.conf"
      ],
      "metadata": {
        "id": "mwqdkhqUUP14"
      },
      "execution_count": null,
      "outputs": []
    },
    {
      "cell_type": "code",
      "source": [
        "server {\n",
        "    listen [::]:80;\n",
        "    listen 80;\n",
        "\n",
        "    server_name domainname.com;\n",
        "\n",
        "    location / {\n",
        "        proxy_pass http://localhost:7860;\n",
        "        proxy_http_version 1.1;\n",
        "        proxy_set_header Upgrade $http_upgrade;\n",
        "        proxy_set_header Connection 'upgrade';\n",
        "        proxy_set_header Host $host;\n",
        "        proxy_cache_bypass $http_upgrade;\n",
        "    }\n",
        "\n",
        "    location /outputs/ {\n",
        "        root /home/username/sd/automatic1111/stable-diffusion-webui;\n",
        "        add_header Access-Control-Allow-Origin *;\n",
        "    }\n",
        "}"
      ],
      "metadata": {
        "id": "geo3kdrhUQ0p"
      },
      "execution_count": null,
      "outputs": []
    },
    {
      "cell_type": "code",
      "source": [
        "!sudo ln -s /etc/nginx/sites-available/sdwebui.conf /etc/nginx/sites-enabled/sdwebui.conf"
      ],
      "metadata": {
        "id": "ZyAPMQU5UR_1"
      },
      "execution_count": null,
      "outputs": []
    },
    {
      "cell_type": "code",
      "source": [
        "!sudo service nginx restart"
      ],
      "metadata": {
        "id": "WWmA_pa0UTCf"
      },
      "execution_count": null,
      "outputs": []
    }
  ],
  "metadata": {
    "accelerator": "GPU",
    "colab": {
      "gpuType": "T4",
      "provenance": [],
      "include_colab_link": true
    },
    "kernelspec": {
      "display_name": "Python 3",
      "name": "python3"
    },
    "language_info": {
      "name": "python"
    }
  },
  "nbformat": 4,
  "nbformat_minor": 0
}